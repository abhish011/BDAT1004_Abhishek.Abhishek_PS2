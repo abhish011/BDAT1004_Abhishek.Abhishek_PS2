{
 "cells": [
  {
   "cell_type": "markdown",
   "id": "a1b63766-5799-4ebd-8487-b648b64927a5",
   "metadata": {},
   "source": [
    "# QUESTION 1#\n",
    "Consider the following Python module:\r\n",
    "a = 0\r\n",
    "def b():\r\n",
    "global a\r\n",
    "a = c(a)\r\n",
    "def c(a):\r\n",
    "return a + 2\r\n",
    "After importing the module into the interpreter, you execute:\r\n",
    ">>> b()\r\n",
    ">>> b()\r\n",
    ">>> b()\r\n",
    ">>> a\r\n",
    "?\r\n",
    "What value is displayed when the last expression (a) is evaluated? Explain your\r\n",
    "answer by indicating what happens in every executed statement."
   ]
  },
  {
   "cell_type": "code",
   "execution_count": null,
   "id": "a96705f0-855a-4664-a61a-e5787243dd4f",
   "metadata": {},
   "outputs": [],
   "source": [
    "#ANSWER1\n",
    "a = 0           #given value  \n",
    "def b():         # function b\n",
    " global a      #declared as global variable for values in b function\n",
    " a = c(a)      \n",
    "def c(a):          # defined c funtion and \n",
    " return a + 2          # add 2 in a \n",
    "b()     ## Call function b for the first time\n",
    "b()        #again after calling the funtion b, which will add 2 with the function a  i.e., a + 2 = 2+2 = 4\n",
    "b()    #c(4) is called, which returns 4 + 2 = 6\n",
    "a        #when we called funtion a the latest value contained in a i.e., 6 will be printed as output"
   ]
  },
  {
   "cell_type": "markdown",
   "id": "6846f703-0532-4c08-a930-bcaea29d80e6",
   "metadata": {},
   "source": [
    "#QUESTION 2#\n",
    "Function fileLength(), given to you, takes the name of a file as input and returns\r\n",
    "the length of the file:\r\n",
    ">>> fileLength('midterm.py')\r\n",
    "284\r\n",
    ">>> fileLength('idterm.py')\r\n",
    "Traceback (most recent call last):\r\n",
    "File \"<pyshell#34>\", line 1, in <module>\r\n",
    "fileLength('idterm.py')\r\n",
    "File \"/Users/me/midterm.py\", line 3, in fileLength\r\n",
    "infile = open(filename)\r\n",
    "FileNotFoundError: [Errno 2] No such file or directory:\r\n",
    "<b>'idterm.py'\r\n",
    "As shown above, if the file cannot be found by the interpreter or if it cannot be read\r\n",
    "as a text file, an exception will be raised. Modify function fileLength() so that a\r\n",
    "friendly message is printed instead:\r\n",
    ">>> fileLength('midterm.py')\r\n",
    "358\r\n",
    ">>> fileLength('idterm.py')\r\n",
    "File id<b>term.py not found."
   ]
  },
  {
   "cell_type": "code",
   "execution_count": 7,
   "id": "bf14658c-122d-4125-91d8-0c6be9af9fd9",
   "metadata": {},
   "outputs": [
    {
     "name": "stdout",
     "output_type": "stream",
     "text": [
      "File 'midterm.py' not found.\n",
      "None\n",
      "File 'idterm.py' not found.\n",
      "None\n"
     ]
    }
   ],
   "source": [
    "def fileLength(filename):\n",
    "    try:\n",
    "        with open(filename, 'r') as infile:\n",
    "            contents = infile.read()\n",
    "            return len(contents)\n",
    "    except FileNotFoundError:\n",
    "        print(f\"File '{filename}' not found.\")\n",
    "    except Exception as e:\n",
    "        print(f\"An error occurred: {e}\")\n",
    "\n",
    "# Examples:\n",
    "print(fileLength('midterm.py'))  # Should print the length of the file if it exists\n",
    "print(fileLength('idterm.py'))   # Should print a friendly error message\n"
   ]
  },
  {
   "cell_type": "markdown",
   "id": "ba617ad8-3450-437e-b615-68b14c6e980b",
   "metadata": {},
   "source": [
    "#QUESTION 3#er Studies\r\n",
    "Now write a class named Kangaroo as a subclass of Marsupial that inherits all the\r\n",
    "attributes of Marsupial and also:\r\n",
    "a. extends the Marsupial __init__ constructor to take, as input, the\r\n",
    "coordinates x and y of the Kangaroo object,\r\n",
    "b. supports method jump that takes number values dx and dy as input and\r\n",
    "moves the kangaroo by dx units along the x-axis and by dy units along the y-\r\n",
    "axis, and\r\n",
    "c. overloads the __str__ operator so it behaves as shown below.\r\n",
    ">>> k = Kangaroo(0,0)\r\n",
    ">>> print(k)\r\n",
    "I am a Kangaroo located at coordinates (0,0)\r\n",
    ">>> k.put_in_pouch('doll')\r\n",
    ">>> k.put_in_pouch('firetruck')\r\n",
    ">>> k.put_in_pouch('kitten')\r\n",
    ">>> k.pouch_contents()\r\n",
    "['doll', 'firetruck', 'kitten']\r\n",
    ">>> k.jump(1,0)\r\n",
    ">>> k.jump(1,0)\r\n",
    ">>> k.jump(1,0)\r\n",
    ">>> print(k)\r\n",
    "I am a Kangar<b>oo located at coordinates (3,0)"
   ]
  },
  {
   "cell_type": "code",
   "execution_count": 9,
   "id": "80feb4f5-158c-4801-9d79-01f878dc2565",
   "metadata": {},
   "outputs": [
    {
     "name": "stdout",
     "output_type": "stream",
     "text": [
      "Contents in the pouch are:\n",
      "['doll', 'firetruck', 'kitten']\n",
      "I am a Kangaroo located at coordinates(3, 0)\n"
     ]
    }
   ],
   "source": [
    "class Marsupial:\n",
    "    # Marsupial parent class\n",
    "    \n",
    "    def __init__(self, x, y):\n",
    "        # Constructor to initialize x and y variables for the parent class\n",
    "        self.pouch = []\n",
    "        # Create an empty list to hold items\n",
    "        \n",
    "    def put_in_pouch(self, items):\n",
    "        # Method to add items to the pouch list\n",
    "        self.pouch.append(items)\n",
    "        \n",
    "    def pouch_contents(self):\n",
    "        # Method to display all the items in the pouch list\n",
    "        return self.pouch\n",
    "\n",
    "class Kangaroo(Marsupial):\n",
    "    # Creating a subclass Kangaroo that inherits from Marsupial\n",
    "    def __init__(self, x, y):\n",
    "        # Constructor to initialize coordinates x and y, extending the Marsupial constructor\n",
    "        super().__init__(x, y)\n",
    "        self.dx = 0\n",
    "        self.dy = 0\n",
    "        # Initialize x and y coordinates to 0\n",
    "    \n",
    "    def jump(self, x, y):\n",
    "        # Method to change the kangaroo's position by updating the coordinates\n",
    "        self.dx += x\n",
    "        self.dy += y\n",
    "    \n",
    "    def __str__(self):\n",
    "        # Overloading the __str__ operator to provide a string representation of the kangaroo's location\n",
    "        return 'I am a Kangaroo located at coordinates({}, {})'.format(self.dx, self.dy)\n",
    "\n",
    "# Create an instance of Kangaroo\n",
    "k = Kangaroo(0, 0)\n",
    "\n",
    "# Add items to the kangaroo's pouch\n",
    "k.put_in_pouch('doll')\n",
    "k.put_in_pouch('firetruck')\n",
    "k.put_in_pouch('kitten')\n",
    "\n",
    "# Display the contents of the pouch\n",
    "k.pouch_contents()\n",
    "print(\"Contents in the pouch are:\")\n",
    "print(k.pouch)\n",
    "k.jump(1,0)\n",
    "k.jump(1,0)\n",
    "k.jump(1,0)\n",
    "print(k)\n"
   ]
  },
  {
   "cell_type": "markdown",
   "id": "db7134a7-e463-4d62-a790-cf83478edce1",
   "metadata": {},
   "source": [
    "#QUESTION4#\n",
    "Write function collatz() that takes a positive integer x as input and prints the\r\n",
    "Collatz sequence starting at x. A Collatz sequence is obtained by repeatedly applying\r\n",
    "this rule to the previous number x in the sequence:\r\n",
    "x = { 𝑥/2 𝑖𝑓 𝑥 𝑖𝑠 𝑒𝑣𝑒𝑛\r\n",
    "3𝑥 + 1 𝑖𝑓 𝑥 𝑖𝑠 𝑜𝑑𝑑\r\n",
    "Your function should stop when the sequence gets to number 1. Your\r\n",
    "implementation must be recursive, without any loops."
   ]
  },
  {
   "cell_type": "code",
   "execution_count": 10,
   "id": "59b00943-29ce-4f78-9897-0f6090ff7dcd",
   "metadata": {},
   "outputs": [
    {
     "name": "stdout",
     "output_type": "stream",
     "text": [
      "1\n",
      "10\n",
      "5\n",
      "16\n",
      "8\n",
      "4\n",
      "2\n",
      "1\n"
     ]
    }
   ],
   "source": [
    "def collatz(x):\n",
    "    # Print the current value of x\n",
    "    print(x)\n",
    "    \n",
    "    # Base case: if x is 1, stop the recursion\n",
    "    if x == 1:\n",
    "        return\n",
    "    # If x is even, recursively call collatz with x / 2\n",
    "    elif x % 2 == 0:\n",
    "        collatz(x // 2)\n",
    "    # If x is odd, recursively call collatz with 3x + 1\n",
    "    else:\n",
    "        collatz(3 * x + 1)\n",
    "\n",
    "# Examples:\n",
    "collatz(1)  # Should print the sequence: 1\n",
    "collatz(10) # Should print the sequence: 10, 5, 16, 8, 4, 2, 1\n"
   ]
  },
  {
   "cell_type": "markdown",
   "id": "9e7cd3ed-e2d1-4892-a80e-5333a09ad048",
   "metadata": {},
   "source": [
    "#Question5#\n",
    "Write a recursive method binary() that takes a non-negative\r\n",
    "integer n and prints the binary representation of integer n.\r\n",
    ">>> binary(0)\r\n",
    "0\r\n",
    ">>> binary(1)\r\n",
    "1\r\n",
    ">>> binary(3)\r\n",
    "11\r\n",
    ">>> binary(9)\r\n",
    "1001"
   ]
  },
  {
   "cell_type": "code",
   "execution_count": 11,
   "id": "3f1d267f-44b3-4558-b083-74a2cb1c2104",
   "metadata": {},
   "outputs": [
    {
     "name": "stdout",
     "output_type": "stream",
     "text": [
      "0\n",
      "1\n",
      "11\n",
      "1001\n"
     ]
    }
   ],
   "source": [
    "def binary(n):\n",
    "    if n < 2:\n",
    "        print(n, end='')\n",
    "    else:\n",
    "        binary(n // 2)\n",
    "        print(n % 2, end='')\n",
    "\n",
    "# Examples:\n",
    "binary(0)  # Should print: 0\n",
    "print()    # For a new line after the output\n",
    "binary(1)  # Should print: 1\n",
    "print()    # For a new line after the output\n",
    "binary(3)  # Should print: 11\n",
    "print()    # For a new line after the output\n",
    "binary(9)  # Should print: 1001\n",
    "print()    # For a new line after the output\n"
   ]
  },
  {
   "cell_type": "markdown",
   "id": "a57f82a3-b33d-4ee6-94f9-e78c5e82add5",
   "metadata": {},
   "source": [
    "#Question6#\n",
    "Implement a class named HeadingParser that can be used to parse an HTML\r\n",
    "document, and retrieve and print all the headings in the document. You should\r\n",
    "implement your class as a subclass of HTMLParser, defined in Standard Library\r\n",
    "module html.parser. When fed a string containing HTML code, your class should\r\n",
    "print the headings, one per line and in the order in which they appear in the\r\n",
    "document. Each heading should be indented as follows: an h1 heading should indentation 0, and h2 heading should have indentation 1, etc.\n",
    "Test your\r\n",
    "implementation using w3c.html.\r\n",
    ">>> infile = open('w3c.html')\r\n",
    ">>> content = infile.read()\r\n",
    ">>> infile.close()\r\n",
    ">>> hp = HeadingParser()\r\n",
    ">>> hp.feed(content)\r\n",
    "W3C Mission\r\n",
    "Principles have"
   ]
  },
  {
   "cell_type": "code",
   "execution_count": 18,
   "id": "77e4bdf8-3aed-4f96-82a6-c150e5b70dce",
   "metadata": {},
   "outputs": [
    {
     "name": "stdout",
     "output_type": "stream",
     "text": [
      "W3C Mission\n",
      " Principles\n"
     ]
    }
   ],
   "source": [
    "from html.parser import HTMLParser\n",
    "\n",
    "class HeadingParser(HTMLParser):\n",
    "    def __init__(self):\n",
    "        super().__init__()\n",
    "        self.headings = []\n",
    "        self.current_heading = None\n",
    "        self.indentation = 0\n",
    "\n",
    "    def handle_starttag(self, tag, attrs):\n",
    "        if tag.startswith('h') and len(tag) == 2 and tag[1].isdigit():\n",
    "            self.current_heading = tag\n",
    "            self.indentation = int(tag[1]) - 1  # h1 starts with indentation 0\n",
    "\n",
    "    def handle_endtag(self, tag):\n",
    "        if tag == self.current_heading:\n",
    "            print(' ' * self.indentation + self.headings[-1])\n",
    "            self.current_heading = None\n",
    "\n",
    "    def handle_data(self, data):\n",
    "        if self.current_heading:\n",
    "            self.headings.append(data.strip())# Example usage\n",
    "if __name__ == \"__main__\":\n",
    "    html_content = \"\"\"\n",
    "    <!DOCTYPE html>\n",
    "    <html lang=\"en\">\n",
    "    <head>\n",
    "      <meta name=\"description\" content=\"Webpage description goes here\" />\n",
    "      <meta charset=\"utf-8\">\n",
    "      <title>Change_me</title>\n",
    "      <meta name=\"viewport\" content=\"width=device-width, initial-scale=1\">\n",
    "      <meta name=\"author\" content=\"\">\n",
    "      <link rel=\"stylesheet\" href=\"css/style.css\">\n",
    "    </head>\n",
    "    <body>\n",
    "      <h1>W3C Mission</h1>\n",
    "      <h2>Principles</h2>\n",
    "    </body>\n",
    "    </html>\n",
    "    \"\"\"\n",
    "\n",
    "    # Create HeadingParser instance and feed it with HTML content\n",
    "    hp = HeadingParser()\n",
    "    hp.feed(html_content)"
   ]
  },
  {
   "cell_type": "markdown",
   "id": "2b70c059-ce1f-4060-9bcf-523fab3bfbc6",
   "metadata": {},
   "source": [
    "#Question7#\n",
    "Implement recursive function webdir() that takes as input: a URL (as a string) and\r\n",
    "non-negative integers depth and indent. Your function should visit every web\r\n",
    "page reachable from the starting URL web page in depth clicks or less, and print\r\n",
    "each web page's URL. As shown below, indentation, specified by indent, should\r\n",
    "be used to indicate the depth of a URL.\r\n",
    ">>>\r\n",
    "webdir('http://reed.cs.depaul.edu/lperkovic/csc242/test1.html'\r\n",
    ", 2, 0)\r\n",
    "http://reed.cs.depaul.edu/lperkovic/csc242/test1.html\r\n",
    "http://reed.cs.depaul.edu/lperkovic/csc242/test2.html\r\n",
    "http://reed.cs.depaul.edu/lperkovic/csc242/test4.html\r\n",
    "http://reed.cs.depaul.edu/lperkovic/csc242/test3.html\r\n",
    "http://reed.cs.depaul.edu/lperkovic/csc242/test4.html"
   ]
  },
  {
   "cell_type": "code",
   "execution_count": 19,
   "id": "0ef3e80e-6ff9-420e-92f0-55d685632e66",
   "metadata": {},
   "outputs": [
    {
     "name": "stdout",
     "output_type": "stream",
     "text": [
      "http://reed.cs.depaul.edu/lperkovic/csc242/test1.html\n",
      "http://reed.cs.depaul.edu/lperkovic/csc242/test2.html\n",
      "http://reed.cs.depaul.edu/lperkovic/csc242/test3.html\n",
      "http://reed.cs.depaul.edu/lperkovic/csc242/test4.html\n"
     ]
    }
   ],
   "source": [
    "import requests\n",
    "from bs4 import BeautifulSoup\n",
    "\n",
    "def webdir(url, depth, indent):\n",
    "    print(\" \" * indent + url)  # Print the URL with the specified indentation\n",
    "    if depth == 0:\n",
    "        return  # If depth is 0, stop the recursion\n",
    "    try:\n",
    "        response = requests.get(url)  # Send a GET request to the URL\n",
    "        soup = BeautifulSoup(response.text, 'html.parser')  # Parse the response content\n",
    "        for link in soup.find_all('a', href=True):  # Find all links in the parsed content\n",
    "            href = link['href']\n",
    "            if href.startswith(\"http\"):\n",
    "                # If the link is an absolute URL, recursively call webdir\n",
    "                webdir(href, depth - 1, indent + 1)\n",
    "            elif href.startswith(\"/\"):\n",
    "                # If the link is a relative URL, construct the full URL and recursively call webdir\n",
    "                webdir(url + href, depth - 1, indent + 1)\n",
    "    except requests.exceptions.RequestException as e:\n",
    "        # Handle any request exceptions\n",
    "        print(\" \" * indent + \"Error: \" + str(e))\n",
    "\n",
    "# Test the function\n",
    "webdir('http://reed.cs.depaul.edu/lperkovic/csc242/test1.html', 2, 0)\n",
    "webdir('http://reed.cs.depaul.edu/lperkovic/csc242/test2.html', 2, 0)\n",
    "webdir('http://reed.cs.depaul.edu/lperkovic/csc242/test3.html', 2, 0)\n",
    "webdir('http://reed.cs.depaul.edu/lperkovic/csc242/test4.html', 2, 0)\n"
   ]
  },
  {
   "cell_type": "code",
   "execution_count": null,
   "id": "d59fbd45-1a44-4dbd-8433-e4a620492989",
   "metadata": {},
   "outputs": [],
   "source": [
    "#QUESTION 8#\n",
    "Write SQL queries on the below database table that return:\n",
    "a) All the temperature data.\n",
    "b) All the cities, but without repetition.\n",
    "c) All the records for India.\n",
    "d) All the Fall records.\n",
    "e) The city, country, and season for which the average rainfall is between 200\n",
    "and 400 millimeters.\n",
    "f) The city and country for which the average Fall temperature is above 20\n",
    "degrees, in increasing temperature order.\n",
    "g) The total annual rainfall for Cairo.\n",
    "h) The total rainfall for each season."
   ]
  },
  {
   "cell_type": "code",
   "execution_count": 20,
   "id": "b988b6b4-f60c-4373-943e-feb06a0cb67f",
   "metadata": {},
   "outputs": [
    {
     "name": "stdout",
     "output_type": "stream",
     "text": [
      "http://reed.cs.depaul.edu/lperkovic/csc242/test1.html\n"
     ]
    }
   ],
   "source": [
    "import requests\n",
    "from bs4 import BeautifulSoup\n",
    "\n",
    "def webdir(start_url, max_depth, indent_level):\n",
    "    if max_depth < 0:\n",
    "        return  # Stop if the maximum depth is reached\n",
    "    \n",
    "    print(' ' * indent_level + start_url)  # Print the current URL with indentation\n",
    "    \n",
    "    try:\n",
    "        response = requests.get(start_url)  # Send a GET request to the start URL\n",
    "        html_content = response.text  # Get the HTML content of the page\n",
    "        soup = BeautifulSoup(html_content, 'html.parser')  # Parse the HTML content\n",
    "        all_links = soup.find_all('a')  # Find all anchor tags (<a>)\n",
    "        \n",
    "        for link in all_links:\n",
    "            href = link.get('href')  # Get the href attribute of the link\n",
    "            if href and href.startswith('http'):\n",
    "                # If the href is a valid absolute URL, recursively call webdir\n",
    "                webdir(href, max_depth - 1, indent_level + 4)\n",
    "    except Exception as e:\n",
    "        print(f\"Failed to access {start_url}: {e}. Might be error in typing\")\n",
    "\n",
    "# Test the function\n",
    "webdir('http://reed.cs.depaul.edu/lperkovic/csc242/test1.html', 2, 0)\n"
   ]
  },
  {
   "cell_type": "markdown",
   "id": "39ed29e4-9948-4d10-8096-0d29d59b9346",
   "metadata": {},
   "source": [
    "#QUESTION9# \n",
    "Suppose list words is defined as follows:\r\n",
    ">>> words = ['The', 'quick', 'brown', 'fox', 'jumps', 'over',\r\n",
    "'the', 'lazy', 'dog']\r\n",
    "Write list comprehension expressions that use list words and generate the following\r\n",
    "lists:\r\n",
    "a) ['THE', 'QUICK', 'BROWN', 'FOX', 'JUMPS', 'OVER', 'THE',\r\n",
    "'LAZY', 'DOG']\r\n",
    "b) ['the', 'quick', 'brown', 'fox', 'jumps', 'over', 'the',\r\n",
    "'lazy', 'dog']\r\n",
    "c) [3, 5, 5, 3, 5, 4, 3, 4, 3] (the list of lengths of words in list\r\n",
    "words).\r\n",
    "d) [['THE', 'the', 3], ['QUICK', 'quick', 5], ['BROWN',\r\n",
    "'brown', 5], ['FOX', 'fox', 3], ['JUMPS', 'jumps', 5],\r\n",
    "['OVER', 'over', 4], ['THE', 'the', 3], ['LAZY', 'lazy',\r\n",
    "4], ['DOG', 'dog', 3]] (the list containing a list for every word of list\r\n",
    "words, where each list contains the word in uppercase and lowercase and the\r\n",
    "length of the word.)\r\n",
    "e) ['The', 'quick', 'brown', 'fox', 'jumps', 'over', 'the',\r\n",
    "'lazy', 'dog'] (the list of words in list words containing 4 or more\r\n",
    "characters.)"
   ]
  },
  {
   "cell_type": "code",
   "execution_count": 13,
   "id": "14ee1207-5686-4362-b709-95444e075a09",
   "metadata": {},
   "outputs": [
    {
     "name": "stdout",
     "output_type": "stream",
     "text": [
      "['THE', 'QUICK', 'BROWN', 'FOX', 'JUMPS', 'OVER', 'THE', 'LAZY', 'DOG']\n"
     ]
    }
   ],
   "source": [
    "#ANSWER 9\n",
    "words = ['The', 'quick', 'brown', 'fox', 'jumps', 'over', 'the', 'lazy', 'dog']\n",
    "uppercase_words = [word.upper() for word in words]\n",
    "print(uppercase_words)\n",
    "# Output: ['THE', 'QUICK', 'BROWN', 'FOX', 'JUMPS', 'OVER', 'THE', 'LAZY', 'DOG']\n"
   ]
  },
  {
   "cell_type": "code",
   "execution_count": 14,
   "id": "96d1644e-5b1c-4c0a-9ea4-d8de0a9c8e03",
   "metadata": {},
   "outputs": [
    {
     "name": "stdout",
     "output_type": "stream",
     "text": [
      "['the', 'quick', 'brown', 'fox', 'jumps', 'over', 'the', 'lazy', 'dog']\n"
     ]
    }
   ],
   "source": [
    "lowercase_words = [word.lower() for word in words]\n",
    "print(lowercase_words)\n",
    "# Output: ['the', 'quick', 'brown', 'fox', 'jumps', 'over', 'the', 'lazy', 'dog']\n"
   ]
  },
  {
   "cell_type": "code",
   "execution_count": 15,
   "id": "19d6423d-f5ff-4166-acd1-85cb99817a52",
   "metadata": {},
   "outputs": [
    {
     "name": "stdout",
     "output_type": "stream",
     "text": [
      "[3, 5, 5, 3, 5, 4, 3, 4, 3]\n"
     ]
    }
   ],
   "source": [
    "lengths_of_words = [len(word) for word in words]\n",
    "print(lengths_of_words)\n",
    "# Output: [3, 5, 5, 3, 5, 4, 3, 4, 3]\n"
   ]
  },
  {
   "cell_type": "code",
   "execution_count": 16,
   "id": "e37095de-1ad7-4094-befe-366fa3fe3b1e",
   "metadata": {},
   "outputs": [
    {
     "name": "stdout",
     "output_type": "stream",
     "text": [
      "[['THE', 'the', 3], ['QUICK', 'quick', 5], ['BROWN', 'brown', 5], ['FOX', 'fox', 3], ['JUMPS', 'jumps', 5], ['OVER', 'over', 4], ['THE', 'the', 3], ['LAZY', 'lazy', 4], ['DOG', 'dog', 3]]\n"
     ]
    }
   ],
   "source": [
    "\n",
    "word_info = [[word.upper(), word.lower(), len(word)] for word in words]\n",
    "print(word_info)\n",
    "# Output: [['THE', 'the', 3], ['QUICK', 'quick', 5], ['BROWN', 'brown', 5], ['FOX', 'fox', 3], ['JUMPS', 'jumps', 5], ['OVER', 'over', 4], ['THE', 'the', 3], ['LAZY', 'lazy', 4], ['DOG', 'dog', 3]]\n"
   ]
  },
  {
   "cell_type": "code",
   "execution_count": 17,
   "id": "a52b9e3a-7c93-44a7-8fa8-f0eb3ddf70c7",
   "metadata": {},
   "outputs": [
    {
     "name": "stdout",
     "output_type": "stream",
     "text": [
      "['quick', 'brown', 'jumps', 'over', 'lazy']\n"
     ]
    }
   ],
   "source": [
    "words_with_4_or_more_chars = [word for word in words if len(word) >= 4]\n",
    "print(words_with_4_or_more_chars)\n",
    "# Output: ['quick', 'brown', 'jumps', 'over', 'lazy']\n"
   ]
  }
 ],
 "metadata": {
  "kernelspec": {
   "display_name": "Python 3 (ipykernel)",
   "language": "python",
   "name": "python3"
  },
  "language_info": {
   "codemirror_mode": {
    "name": "ipython",
    "version": 3
   },
   "file_extension": ".py",
   "mimetype": "text/x-python",
   "name": "python",
   "nbconvert_exporter": "python",
   "pygments_lexer": "ipython3",
   "version": "3.11.7"
  }
 },
 "nbformat": 4,
 "nbformat_minor": 5
}
